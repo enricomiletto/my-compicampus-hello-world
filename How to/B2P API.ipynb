{
  "nbformat": 4,
  "nbformat_minor": 0,
  "metadata": {
    "colab": {
      "name": "B2P API.ipynb",
      "provenance": [],
      "authorship_tag": "ABX9TyNJJEW3n/FCLmsTvZVkpD82",
      "include_colab_link": true
    },
    "kernelspec": {
      "name": "python3",
      "display_name": "Python 3"
    },
    "language_info": {
      "name": "python"
    }
  },
  "cells": [
    {
      "cell_type": "markdown",
      "metadata": {
        "id": "view-in-github",
        "colab_type": "text"
      },
      "source": [
        "<a href=\"https://colab.research.google.com/github/enricomiletto/my-compicampus-hello-world/blob/main/How%20to/B2P%20API.ipynb\" target=\"_parent\"><img src=\"https://colab.research.google.com/assets/colab-badge.svg\" alt=\"Open In Colab\"/></a>"
      ]
    },
    {
      "cell_type": "markdown",
      "metadata": {
        "id": "5y0qaZL6OtEU"
      },
      "source": [
        "This should describe how to retrieve data from the SBB B2P API\n"
      ]
    },
    {
      "cell_type": "code",
      "metadata": {
        "id": "wqXmagLiPGIO"
      },
      "source": [
        "prova"
      ],
      "execution_count": null,
      "outputs": []
    }
  ]
}